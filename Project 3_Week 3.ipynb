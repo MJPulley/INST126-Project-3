{
 "cells": [
  {
   "cell_type": "code",
   "execution_count": null,
   "metadata": {},
   "outputs": [],
   "source": [
    "# Read userlog.log\n",
    "userlog = open(\"userlog.log\")\n",
    "logs = userlog.readlines()\n",
    "logs_dict = parseLog(logs)"
   ]
  },
  {
   "cell_type": "code",
   "execution_count": null,
   "metadata": {},
   "outputs": [],
   "source": [
    "# Function for reading log file and storing in dictionary\n",
    "def parseLog(logs):\n",
    "    logs_dict = {}\n",
    "    for log in logs:\n",
    "        elements = log.split()\n",
    "        date = elements[0]\n",
    "        time = elements[1]\n",
    "        activity = elements[2]\n",
    "        server = elements [3]\n",
    "        email = elements[4]\n",
    "        \n",
    "        if email in logs_dict:\n",
    "            if date in logs_dict[email]:\n",
    "                logs_dict[email][date].append((time, activity, server))\n",
    "            else:\n",
    "                logs_dict[email][date] = [(time, activity, server)]\n",
    "        else:\n",
    "            logs_dict[email] = {date: [(time, activity, server)]}\n",
    "        logs_dict[email][date].sort()\n",
    "    return logs_dict"
   ]
  },
  {
   "cell_type": "code",
   "execution_count": null,
   "metadata": {},
   "outputs": [],
   "source": [
    "# Function for writing report\n",
    "def writeReport(title, fileName, suspiciousAct, suspiciousCount, logs_dict):\n",
    "    new_file = open(fileName, \"x\")\n",
    "    new_file.write(\"==============================\\n\")\n",
    "    new_file.write(f\"=== {title} ({str(suspiciousCount)} cases) ===\\n\")\n",
    "    new_file.write(\"==============================\\n\")\n",
    "    \n",
    "    for email in suspiciousAct:\n",
    "        actCount = len(suspiciousAct[email])\n",
    "        new_file.write(f\"{email}\\t\\t{str(actCount)}\\n\")\n",
    "        \n",
    "        for date in suspiciousAct[email]:\n",
    "            new_file.write(f\"\\tDATE: [{date}] ---\\n\")\n",
    "            \n",
    "            for activity in logs_dict[email][date]:\n",
    "                new_file.write(f\"\\t\\t{activity[0]}\\t{activity[2]}\\n\")\n",
    "                \n",
    "    new_file.close()"
   ]
  },
  {
   "cell_type": "code",
   "execution_count": null,
   "metadata": {},
   "outputs": [],
   "source": [
    "# Report 1 Suspicious Activities\n",
    "suspiciousAct = {}\n",
    "suspiciousCount = 0\n",
    "for email in logs_dict:\n",
    "    for date in logs_dict[email]:\n",
    "        loginCount = sum(1 for i in logs_dict[email][date] if i[1] == 'login')\n",
    "        hasLateLogin = any(i[1] == 'login' and int(i[0].split(':')[0]) < 5 for i in logs_dict[email][date])\n",
    "        \n",
    "        if loginCount > 5 or hasLateLogin:\n",
    "            suspiciousCount += 1\n",
    "            if email in suspiciousAct:\n",
    "                suspiciousAct[email].append(date)\n",
    "            else:\n",
    "                suspiciousAct[email] = [date]\n",
    "            suspiciousAct[email].sort()\n",
    "            \n",
    "writeReport(\"Suspicious Activities\", \"suspicious_report.txt\", suspiciousAct, suspiciousCount, logs_dict)"
   ]
  },
  {
   "cell_type": "code",
   "execution_count": null,
   "metadata": {},
   "outputs": [],
   "source": [
    "# Report 2 Irresponsible Behavior\n",
    "irresponsibleAct = {}\n",
    "irresponsibleCount = 0\n",
    "for email in logs_dict:\n",
    "    for date in logs_dict[email]:\n",
    "        loginCount = sum(1 for i in logs_dict[email][date] if i[1] == 'login')\n",
    "        logoutCount = sum(1 for i in logs_dict[email][date] if i[1] == 'logout')\n",
    "        \n",
    "        if loginCount > logoutCount:\n",
    "            irresponsibleCount += 1\n",
    "            if email in irresponsibleAct:\n",
    "                irresponsibleAct[email].append(date)\n",
    "            else:\n",
    "                irresponsibleAct[email] = [date]\n",
    "            irresponsibleAct[email].sort()\n",
    "writeReport(\"Irresponsible Behavior\", \"irresponsible_report.txt\", irresponsibleAct, irresponsibleCount, logs_dict)"
   ]
  },
  {
   "cell_type": "code",
   "execution_count": null,
   "metadata": {},
   "outputs": [],
   "source": [
    "# Report 3 System Glitch\n",
    "systemGlitch = {}\n",
    "systemGlitchCount = 0\n",
    "for email in logs_dict:\n",
    "    for date in logs_dict[email]:\n",
    "        logoutCount = sum(1 for i in logs_dict[email][date] if i[1] == 'logout')\n",
    "        loginCount = sum(1 for i in logs_dict[email][date] if i[1] == 'login')\n",
    "        \n",
    "        if logoutCount > loginCount:\n",
    "            systemGlitchCount += 1\n",
    "            if email in systemGlitch:\n",
    "                systemGlitch[email].append(date)\n",
    "            else:\n",
    "                systemGlitch[email] = [date]\n",
    "            systemGlitch[email].sort()\n",
    "writeReport(\"System Glitch\", \"glitch_report.txt\", systemGlitch, systemGlitchCount, logs_dict)"
   ]
  },
  {
   "cell_type": "code",
   "execution_count": null,
   "metadata": {},
   "outputs": [],
   "source": [
    "# Report 4 Domain Count\n",
    "emailList = logs_dict.keys()\n",
    "domains_dict = {}\n",
    "for email in emailList:\n",
    "    emailParts = email.split('@')\n",
    "    domain = emailParts[1]\n",
    "    if domain in domains_dict:\n",
    "        domains_dict[domain] += 1\n",
    "    else:\n",
    "        domains_dict[domain] = 1\n",
    "        \n",
    "new_file = open(\"domain_report.txt\", \"x\")\n",
    "new_file.write(\"==============================\\n\")\n",
    "new_file.write(f\"=== Domain Count ({str(len(domains_dict))} Domains) ===\\n\")\n",
    "new_file.write(\"==============================\\n\")\n",
    "               \n",
    "for domain in domains_dict:\n",
    "    new_file.write(f\"{domain}\\t\\t{domains_dict[domain]}\\n\")\n",
    "               \n",
    "new_file.close()"
   ]
  },
  {
   "cell_type": "code",
   "execution_count": null,
   "metadata": {},
   "outputs": [],
   "source": []
  },
  {
   "cell_type": "code",
   "execution_count": null,
   "metadata": {},
   "outputs": [],
   "source": []
  },
  {
   "cell_type": "code",
   "execution_count": null,
   "metadata": {},
   "outputs": [],
   "source": []
  }
 ],
 "metadata": {
  "kernelspec": {
   "display_name": "Python 3",
   "language": "python",
   "name": "python3"
  },
  "language_info": {
   "codemirror_mode": {
    "name": "ipython",
    "version": 3
   },
   "file_extension": ".py",
   "mimetype": "text/x-python",
   "name": "python",
   "nbconvert_exporter": "python",
   "pygments_lexer": "ipython3",
   "version": "3.8.5"
  }
 },
 "nbformat": 4,
 "nbformat_minor": 4
}
